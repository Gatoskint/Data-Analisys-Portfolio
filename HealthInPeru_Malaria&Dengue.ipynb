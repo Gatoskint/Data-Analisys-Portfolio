{
  "nbformat": 4,
  "nbformat_minor": 0,
  "metadata": {
    "colab": {
      "provenance": [],
      "authorship_tag": "ABX9TyMMB4iDabpDCjA4d964XihN",
      "include_colab_link": true
    },
    "kernelspec": {
      "name": "python3",
      "display_name": "Python 3"
    },
    "language_info": {
      "name": "python"
    }
  },
  "cells": [
    {
      "cell_type": "markdown",
      "metadata": {
        "id": "view-in-github",
        "colab_type": "text"
      },
      "source": [
        "<a href=\"https://colab.research.google.com/github/jonathan-arevalo/Data-Analysis-Portfolio/blob/main/HealthInPeru_Malaria%26Dengue.ipynb\" target=\"_parent\"><img src=\"https://colab.research.google.com/assets/colab-badge.svg\" alt=\"Open In Colab\"/></a>"
      ]
    },
    {
      "cell_type": "markdown",
      "source": [
        "Descripcion del proyecto"
      ],
      "metadata": {
        "id": "MqPJ2Vl3eGeJ"
      }
    },
    {
      "cell_type": "code",
      "execution_count": null,
      "metadata": {
        "id": "XY-p2Q_-cSku"
      },
      "outputs": [],
      "source": [
        "#vigilancia a malaria y dengue, enfermedades que afectan en sobremanera al peru. Un analisis a como han trabajado en las ultimas dos decadas (o quiza la ultima decada, o incluso una comparacion)\n",
        "!pip install pyspark\n",
        "!pip install streamlit\n",
        "\n",
        "import streamlit as st\n",
        "import pyspark\n",
        "from pyspark.sql import SparkSession\n",
        "from pyspark.sql import functions as F\n",
        "#from pyspark.sql.functions import \"variables\"\n",
        "import pandas as pd\n",
        "import matplotlib.pyplot as plt\n",
        "import numpy as np"
      ]
    },
    {
      "cell_type": "code",
      "source": [],
      "metadata": {
        "id": "eBRwnZcygklB"
      },
      "execution_count": null,
      "outputs": []
    }
  ]
}